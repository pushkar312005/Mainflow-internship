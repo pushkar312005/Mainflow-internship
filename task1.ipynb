{
 "cells": [
  {
   "cell_type": "code",
   "execution_count": 3,
   "id": "826781b7-37c3-43ec-ad16-3ee540a402ab",
   "metadata": {},
   "outputs": [
    {
     "name": "stdout",
     "output_type": "stream",
     "text": [
      "New List: [1, 7, 8, 9, 10]\n"
     ]
    }
   ],
   "source": [
    "list = [5,6,7,8,9]\n",
    "list.append(10)\n",
    "list.remove(6)\n",
    "list[0] = 1\n",
    "print(\"New List:\" , list)"
   ]
  },
  {
   "cell_type": "code",
   "execution_count": 2,
   "id": "20d55459-892d-4214-b79e-665d66198901",
   "metadata": {},
   "outputs": [
    {
     "name": "stdout",
     "output_type": "stream",
     "text": [
      "New dictionary: {'name': 'Pushkar', 'city': 'Delhi', 'gender': 'Male'}\n"
     ]
    }
   ],
   "source": [
    "dict = {'name' : 'Pushkar', 'age':19 , 'city': 'Mumbai'}\n",
    "dict['gender'] = 'Male'\n",
    "del dict['age']\n",
    "dict['city'] = 'Delhi'\n",
    "print(\"New dictionary:\" , dict)"
   ]
  },
  {
   "cell_type": "code",
   "execution_count": 4,
   "id": "9dbb3d9a-49f9-4dc4-865a-cc95e1982b6b",
   "metadata": {},
   "outputs": [
    {
     "name": "stdout",
     "output_type": "stream",
     "text": [
      "New Set: {7, 8, 9, 10, 11}\n"
     ]
    }
   ],
   "source": [
    "set = {5,6,7,8,9}\n",
    "set.add(10)\n",
    "set.remove(5)\n",
    "set.discard(6)\n",
    "set.add(11)\n",
    "print(\"New Set:\" , set)"
   ]
  },
  {
   "cell_type": "code",
   "execution_count": null,
   "id": "53138470-d749-496d-a922-88396f21715c",
   "metadata": {},
   "outputs": [],
   "source": []
  }
 ],
 "metadata": {
  "kernelspec": {
   "display_name": "Python 3 (ipykernel)",
   "language": "python",
   "name": "python3"
  },
  "language_info": {
   "codemirror_mode": {
    "name": "ipython",
    "version": 3
   },
   "file_extension": ".py",
   "mimetype": "text/x-python",
   "name": "python",
   "nbconvert_exporter": "python",
   "pygments_lexer": "ipython3",
   "version": "3.12.4"
  }
 },
 "nbformat": 4,
 "nbformat_minor": 5
}
